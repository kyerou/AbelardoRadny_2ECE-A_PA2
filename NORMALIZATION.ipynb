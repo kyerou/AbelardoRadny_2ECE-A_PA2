{
 "cells": [
  {
   "cell_type": "code",
   "execution_count": 13,
   "id": "5092030b-0686-4c03-857c-5ba1c32f727b",
   "metadata": {},
   "outputs": [],
   "source": [
    "import numpy as np"
   ]
  },
  {
   "cell_type": "code",
   "execution_count": 14,
   "id": "b652b773-43a3-491a-a4c9-343984d18984",
   "metadata": {},
   "outputs": [
    {
     "data": {
      "text/plain": [
       "array([[0.72145439, 0.10128368, 0.17771835, 0.43791404, 0.25549533],\n",
       "       [0.5965117 , 0.49385104, 0.93303204, 0.18387156, 0.56162949],\n",
       "       [0.35627427, 0.20324525, 0.75932104, 0.5465047 , 0.97133986],\n",
       "       [0.07184414, 0.11502447, 0.59969255, 0.66423107, 0.14246451],\n",
       "       [0.80826518, 0.77269465, 0.65875663, 0.15304629, 0.96770361]])"
      ]
     },
     "execution_count": 14,
     "metadata": {},
     "output_type": "execute_result"
    }
   ],
   "source": [
    "X = np.random.random((5,5))\n",
    "X"
   ]
  },
  {
   "cell_type": "code",
   "execution_count": 15,
   "id": "d65d5289-3323-4678-b8e9-215944765d3f",
   "metadata": {},
   "outputs": [
    {
     "data": {
      "text/plain": [
       "np.float64(0.49012679386126945)"
      ]
     },
     "execution_count": 15,
     "metadata": {},
     "output_type": "execute_result"
    }
   ],
   "source": [
    "M = X.mean()\n",
    "M"
   ]
  },
  {
   "cell_type": "code",
   "execution_count": 16,
   "id": "7009c0b1-081c-4f8a-8b8c-20910c48c7dc",
   "metadata": {},
   "outputs": [
    {
     "data": {
      "text/plain": [
       "np.float64(0.29010076584291083)"
      ]
     },
     "execution_count": 16,
     "metadata": {},
     "output_type": "execute_result"
    }
   ],
   "source": [
    "STD= X.std()\n",
    "STD"
   ]
  },
  {
   "cell_type": "code",
   "execution_count": 17,
   "id": "b2b3488e-fc4d-4225-8221-16ae6056cff6",
   "metadata": {},
   "outputs": [
    {
     "data": {
      "text/plain": [
       "array([[ 0.79740429, -1.34037258, -1.07689631, -0.17998144, -0.808793  ],\n",
       "       [ 0.36671709,  0.01283777,  1.52672899, -1.05568571,  0.24647537],\n",
       "       [-0.4614001 , -0.98890309,  0.92793361,  0.19433903,  1.65877904],\n",
       "       [-1.44185297, -1.29300702,  0.37768172,  0.60015104, -1.19841905],\n",
       "       [ 1.09664788,  0.97403348,  0.5812802 , -1.16194281,  1.64624458]])"
      ]
     },
     "execution_count": 17,
     "metadata": {},
     "output_type": "execute_result"
    }
   ],
   "source": [
    "Z = (X-M)/STD\n",
    "Z"
   ]
  },
  {
   "cell_type": "code",
   "execution_count": 18,
   "id": "82e5a503-612f-4e92-95c5-67dc0990fe75",
   "metadata": {},
   "outputs": [],
   "source": [
    "np.save(\"X_normalized.nyp\", Z)"
   ]
  },
  {
   "cell_type": "code",
   "execution_count": 19,
   "id": "7f6775e9-b746-4398-a512-0608a846b6be",
   "metadata": {},
   "outputs": [
    {
     "name": "stdout",
     "output_type": "stream",
     "text": [
      "Normal Array:\n",
      " [[0.72145439 0.10128368 0.17771835 0.43791404 0.25549533]\n",
      " [0.5965117  0.49385104 0.93303204 0.18387156 0.56162949]\n",
      " [0.35627427 0.20324525 0.75932104 0.5465047  0.97133986]\n",
      " [0.07184414 0.11502447 0.59969255 0.66423107 0.14246451]\n",
      " [0.80826518 0.77269465 0.65875663 0.15304629 0.96770361]]\n",
      "Normalized Array:\n",
      " [[ 0.79740429 -1.34037258 -1.07689631 -0.17998144 -0.808793  ]\n",
      " [ 0.36671709  0.01283777  1.52672899 -1.05568571  0.24647537]\n",
      " [-0.4614001  -0.98890309  0.92793361  0.19433903  1.65877904]\n",
      " [-1.44185297 -1.29300702  0.37768172  0.60015104 -1.19841905]\n",
      " [ 1.09664788  0.97403348  0.5812802  -1.16194281  1.64624458]]\n"
     ]
    }
   ],
   "source": [
    "print(\"Normal Array:\\n\", X)\n",
    "print(\"Normalized Array:\\n\", Z)"
   ]
  }
 ],
 "metadata": {
  "kernelspec": {
   "display_name": "Python [conda env:base] *",
   "language": "python",
   "name": "conda-base-py"
  },
  "language_info": {
   "codemirror_mode": {
    "name": "ipython",
    "version": 3
   },
   "file_extension": ".py",
   "mimetype": "text/x-python",
   "name": "python",
   "nbconvert_exporter": "python",
   "pygments_lexer": "ipython3",
   "version": "3.13.5"
  }
 },
 "nbformat": 4,
 "nbformat_minor": 5
}
